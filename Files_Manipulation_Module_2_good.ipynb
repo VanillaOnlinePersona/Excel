{
  "cells": [
    {
      "cell_type": "markdown",
      "metadata": {
        "id": "view-in-github",
        "colab_type": "text"
      },
      "source": [
        "<a href=\"https://colab.research.google.com/github/datalover2023/Excel_Automation/blob/main/Files_Manipulation_Module_2_good.ipynb\" target=\"_parent\"><img src=\"https://colab.research.google.com/assets/colab-badge.svg\" alt=\"Open In Colab\"/></a>"
      ]
    },
    {
      "cell_type": "markdown",
      "source": [
        "# 1.&nbsp;Set Up"
      ],
      "metadata": {
        "id": "bDYb4uuwZ2xh"
      }
    },
    {
      "cell_type": "code",
      "execution_count": 45,
      "metadata": {
        "id": "_NXz7PBlN_KU"
      },
      "outputs": [],
      "source": [
        "# Import Libraries\n",
        "import os\n",
        "import glob\n",
        "import shutil\n",
        "import sys\n",
        "from pathlib import Path\n",
        "import pandas as pd"
      ]
    },
    {
      "cell_type": "code",
      "source": [
        "# Accessing Google Drive from Google Colab\n",
        "\n",
        "from google.colab import drive \n",
        "drive.mount('/content/gdrive')"
      ],
      "metadata": {
        "colab": {
          "base_uri": "https://localhost:8080/"
        },
        "id": "8GkeyXnRAA_-",
        "outputId": "c0314109-622a-4f57-ddab-9b13d5ad7e27"
      },
      "execution_count": 95,
      "outputs": [
        {
          "output_type": "stream",
          "name": "stdout",
          "text": [
            "Drive already mounted at /content/gdrive; to attempt to forcibly remount, call drive.mount(\"/content/gdrive\", force_remount=True).\n"
          ]
        }
      ]
    },
    {
      "cell_type": "markdown",
      "metadata": {
        "id": "u1Ow-Eg4YHZA"
      },
      "source": [
        "# 2.&nbsp;Paths : CWD, Absolute vs Relative paths"
      ]
    },
    {
      "cell_type": "markdown",
      "source": [
        "## CWD: current working directory"
      ],
      "metadata": {
        "id": "lqaHbSJVl6_p"
      }
    },
    {
      "cell_type": "code",
      "execution_count": 96,
      "metadata": {
        "colab": {
          "base_uri": "https://localhost:8080/",
          "height": 52
        },
        "outputId": "a2a81a23-6280-4ece-b4d8-6c70ef14b7eb",
        "id": "bbKBUTlTYHZB"
      },
      "outputs": [
        {
          "output_type": "stream",
          "name": "stdout",
          "text": [
            "The current working directory is : \n"
          ]
        },
        {
          "output_type": "execute_result",
          "data": {
            "text/plain": [
              "'/content'"
            ],
            "application/vnd.google.colaboratory.intrinsic+json": {
              "type": "string"
            }
          },
          "metadata": {},
          "execution_count": 96
        }
      ],
      "source": [
        "# get absolute path to current working directory\n",
        "\n",
        "#os.chdir('/content')\n",
        "\n",
        "print('The current working directory is : ')\n",
        "os.getcwd() "
      ]
    },
    {
      "cell_type": "code",
      "source": [
        "# save current working directory as cwd\n",
        "cwd = os.getcwd()\n",
        "cwd"
      ],
      "metadata": {
        "colab": {
          "base_uri": "https://localhost:8080/",
          "height": 35
        },
        "id": "HOSQo6ofYZIi",
        "outputId": "ef294866-5d46-40a1-bd37-3b5ab3ae3a91"
      },
      "execution_count": 97,
      "outputs": [
        {
          "output_type": "execute_result",
          "data": {
            "text/plain": [
              "'/content'"
            ],
            "application/vnd.google.colaboratory.intrinsic+json": {
              "type": "string"
            }
          },
          "metadata": {},
          "execution_count": 97
        }
      ]
    },
    {
      "cell_type": "code",
      "source": [
        "# List all files and directories in current directory\n",
        "\n",
        "os.listdir('.') #  ==> we have 3 directories : config, gdrive, sample_data and other files"
      ],
      "metadata": {
        "colab": {
          "base_uri": "https://localhost:8080/"
        },
        "id": "YAud5pWJjR7D",
        "outputId": "61ea8367-35e9-411b-e397-17379aeabdc9"
      },
      "execution_count": 98,
      "outputs": [
        {
          "output_type": "execute_result",
          "data": {
            "text/plain": [
              "['.config',\n",
              " 'UK_old.xlsx',\n",
              " 'UK (1).xlsx',\n",
              " 'UK.xlsx',\n",
              " 'DE.xlsx',\n",
              " 'FR.xlsx',\n",
              " 'gdrive',\n",
              " 'DE (1).xlsx',\n",
              " 'UK_old (1).xlsx',\n",
              " 'FR (1).xlsx',\n",
              " 'sample_data']"
            ]
          },
          "metadata": {},
          "execution_count": 98
        }
      ]
    },
    {
      "cell_type": "code",
      "source": [
        "# check conaining in sample_data directory\n",
        "\n",
        "print(os.listdir('sample_data'))"
      ],
      "metadata": {
        "colab": {
          "base_uri": "https://localhost:8080/"
        },
        "id": "aRUp1uLfjgcx",
        "outputId": "5e4f2ad5-382a-44e7-958a-88a303534e7c"
      },
      "execution_count": 99,
      "outputs": [
        {
          "output_type": "stream",
          "name": "stdout",
          "text": [
            "['README.md', 'anscombe.json', 'california_housing_train.csv', 'mnist_train_small.csv', 'mnist_test.csv', 'california_housing_test.csv']\n"
          ]
        }
      ]
    },
    {
      "cell_type": "markdown",
      "source": [
        "## Paths: Absolute & Relative"
      ],
      "metadata": {
        "id": "1NeODryrmHWC"
      }
    },
    {
      "cell_type": "markdown",
      "source": [
        "**Absolute file paths** are notated by a leading forward slash or drive label. For example, /home/example_user/example_directory or C:/system32/cmd.exe. An absolute file path describes how to access a given file or directory, starting from the root of the file system. A file path is also called a pathname.\n"
      ],
      "metadata": {
        "id": "JSOoWIiOk4Jw"
      }
    },
    {
      "cell_type": "code",
      "source": [
        "# check conaining in gdrive directory with aboslute path\n",
        "\n",
        "print(os.listdir('/content/gdrive')) \n",
        "print(os.listdir('/content/gdrive/MyDrive'))\n",
        "print(os.listdir('/content/gdrive/MyDrive/Colab Notebooks'))"
      ],
      "metadata": {
        "colab": {
          "base_uri": "https://localhost:8080/"
        },
        "id": "W1nieMycjfI6",
        "outputId": "9528e1d8-8d62-4f5f-8992-6d900deb96fb"
      },
      "execution_count": 100,
      "outputs": [
        {
          "output_type": "stream",
          "name": "stdout",
          "text": [
            "['MyDrive', '.file-revisions-by-id', '.shortcut-targets-by-id', '.Trash-0']\n",
            "['Colab Notebooks', 'Raw_Excel_Files', 'New_Folder', 'DE.xlsx', 'FR.xlsx', 'UK.xlsx', 'UK_old.xlsx']\n",
            "['Python_Basics_Module_1 (10).ipynb', 'Practice_Module_1.ipynb', 'Python_Basics_Module_1_Cohort_1.ipynb', 'Basics_Module_1_Cohort_1 (1).ipynb', 'Basics_Module_1_Cohort_1.ipynb', 'Python_Basics_Module_1 (9).ipynb', 'Python_Basics_Module_1 (8).ipynb', 'Python_Basics_Module_1 (7).ipynb', 'Python_Basics_Module_1 (6).ipynb', 'Python_Basics_Module_1 (5).ipynb', 'Python_Basics_Module_1 (4).ipynb', 'Python_Basics_Module_1 (3).ipynb', 'Python_Basics_Module_1 (2).ipynb', 'Python_Basics_Module_1 (1).ipynb', 'Python_Basics_Module_1_back_up.ipynb', 'Python_Basics_Module_1.ipynb', 'Files_Manipulation (1).ipynb', ' Files_Manipulation_Module_2_Practice.ipynb', 'Files_Manipulation.ipynb', 'Files_Manipulation_v2.ipynb', 'Manipulation_Module_2.ipynb', 'Fille_Manipulation_Module_2_Practice.ipynb', 'Copy of Python_Basics_Module_1.ipynb', 'Files_Manipulation_Module_2_good (1).ipynb', 'Files_Manipulation_Module_2.ipynb', 'Files_Manipulation_Module_2_good.ipynb']\n"
          ]
        }
      ]
    },
    {
      "cell_type": "markdown",
      "source": [
        "**Relative file paths** are notated by a lack of a leading forward slash. For example, example_directory. A relative file path is interpreted from the perspective your current working directory. If you use a relative file path from the wrong directory, then the path will refer to a different file than you intend, or it will refer to no file at all."
      ],
      "metadata": {
        "id": "ZkNB-oRjlG7U"
      }
    },
    {
      "cell_type": "code",
      "source": [
        "# check conaining in gdrive directory with relative path\n",
        "\n",
        "print(os.listdir('gdrive')) \n",
        "print(os.listdir('gdrive/MyDrive'))\n",
        "print(os.listdir('gdrive/MyDrive/Colab Notebooks'))"
      ],
      "metadata": {
        "colab": {
          "base_uri": "https://localhost:8080/"
        },
        "id": "ZfOiSUfmkiKT",
        "outputId": "0e9933c4-fd6e-4cc8-d9dd-23ff1bed4580"
      },
      "execution_count": 101,
      "outputs": [
        {
          "output_type": "stream",
          "name": "stdout",
          "text": [
            "['MyDrive', '.file-revisions-by-id', '.shortcut-targets-by-id', '.Trash-0']\n",
            "['Colab Notebooks', 'Raw_Excel_Files', 'New_Folder', 'DE.xlsx', 'FR.xlsx', 'UK.xlsx', 'UK_old.xlsx']\n",
            "['Python_Basics_Module_1 (10).ipynb', 'Practice_Module_1.ipynb', 'Python_Basics_Module_1_Cohort_1.ipynb', 'Basics_Module_1_Cohort_1 (1).ipynb', 'Basics_Module_1_Cohort_1.ipynb', 'Python_Basics_Module_1 (9).ipynb', 'Python_Basics_Module_1 (8).ipynb', 'Python_Basics_Module_1 (7).ipynb', 'Python_Basics_Module_1 (6).ipynb', 'Python_Basics_Module_1 (5).ipynb', 'Python_Basics_Module_1 (4).ipynb', 'Python_Basics_Module_1 (3).ipynb', 'Python_Basics_Module_1 (2).ipynb', 'Python_Basics_Module_1 (1).ipynb', 'Python_Basics_Module_1_back_up.ipynb', 'Python_Basics_Module_1.ipynb', 'Files_Manipulation (1).ipynb', ' Files_Manipulation_Module_2_Practice.ipynb', 'Files_Manipulation.ipynb', 'Files_Manipulation_v2.ipynb', 'Manipulation_Module_2.ipynb', 'Fille_Manipulation_Module_2_Practice.ipynb', 'Copy of Python_Basics_Module_1.ipynb', 'Files_Manipulation_Module_2_good (1).ipynb', 'Files_Manipulation_Module_2.ipynb', 'Files_Manipulation_Module_2_good.ipynb']\n"
          ]
        }
      ]
    },
    {
      "cell_type": "code",
      "source": [
        "# delete a notebook from Colab Notebook ==> Name_Notebook.ipynb after '/content/gdrive/MyDrive/Colab Notebooks/ + Name_Notebook.ipynb'\n",
        "\n",
        "# os.unlink('/content/gdrive/MyDrive/Colab Notebooks/Copy of Fille_Manipulation_Module_2_Practice.ipynb') # relative path as UK_old in the working directory\n"
      ],
      "metadata": {
        "id": "PmCZ28V6jz21"
      },
      "execution_count": 102,
      "outputs": []
    },
    {
      "cell_type": "markdown",
      "source": [
        "## Import files"
      ],
      "metadata": {
        "id": "YMsZrwvkmRWB"
      }
    },
    {
      "cell_type": "code",
      "source": [
        "# import files into google Colab\n",
        "from google.colab import files"
      ],
      "metadata": {
        "id": "vMtWKHrYDYdH"
      },
      "execution_count": 123,
      "outputs": []
    },
    {
      "cell_type": "code",
      "source": [
        "# upload from your local : excel files \"DE.xlsx\", 'UK.xlsx\", 'FR.xlsx' and 'UK_old.xlsx'\n",
        "uploaded = files.upload()"
      ],
      "metadata": {
        "colab": {
          "base_uri": "https://localhost:8080/",
          "height": 177
        },
        "id": "_H0qa3TEP5n7",
        "outputId": "2b4521f6-50b8-493c-9374-53659b9c0987"
      },
      "execution_count": 124,
      "outputs": [
        {
          "output_type": "display_data",
          "data": {
            "text/plain": [
              "<IPython.core.display.HTML object>"
            ],
            "text/html": [
              "\n",
              "     <input type=\"file\" id=\"files-1297d000-d333-452e-b000-ca5bb5917ea4\" name=\"files[]\" multiple disabled\n",
              "        style=\"border:none\" />\n",
              "     <output id=\"result-1297d000-d333-452e-b000-ca5bb5917ea4\">\n",
              "      Upload widget is only available when the cell has been executed in the\n",
              "      current browser session. Please rerun this cell to enable.\n",
              "      </output>\n",
              "      <script>// Copyright 2017 Google LLC\n",
              "//\n",
              "// Licensed under the Apache License, Version 2.0 (the \"License\");\n",
              "// you may not use this file except in compliance with the License.\n",
              "// You may obtain a copy of the License at\n",
              "//\n",
              "//      http://www.apache.org/licenses/LICENSE-2.0\n",
              "//\n",
              "// Unless required by applicable law or agreed to in writing, software\n",
              "// distributed under the License is distributed on an \"AS IS\" BASIS,\n",
              "// WITHOUT WARRANTIES OR CONDITIONS OF ANY KIND, either express or implied.\n",
              "// See the License for the specific language governing permissions and\n",
              "// limitations under the License.\n",
              "\n",
              "/**\n",
              " * @fileoverview Helpers for google.colab Python module.\n",
              " */\n",
              "(function(scope) {\n",
              "function span(text, styleAttributes = {}) {\n",
              "  const element = document.createElement('span');\n",
              "  element.textContent = text;\n",
              "  for (const key of Object.keys(styleAttributes)) {\n",
              "    element.style[key] = styleAttributes[key];\n",
              "  }\n",
              "  return element;\n",
              "}\n",
              "\n",
              "// Max number of bytes which will be uploaded at a time.\n",
              "const MAX_PAYLOAD_SIZE = 100 * 1024;\n",
              "\n",
              "function _uploadFiles(inputId, outputId) {\n",
              "  const steps = uploadFilesStep(inputId, outputId);\n",
              "  const outputElement = document.getElementById(outputId);\n",
              "  // Cache steps on the outputElement to make it available for the next call\n",
              "  // to uploadFilesContinue from Python.\n",
              "  outputElement.steps = steps;\n",
              "\n",
              "  return _uploadFilesContinue(outputId);\n",
              "}\n",
              "\n",
              "// This is roughly an async generator (not supported in the browser yet),\n",
              "// where there are multiple asynchronous steps and the Python side is going\n",
              "// to poll for completion of each step.\n",
              "// This uses a Promise to block the python side on completion of each step,\n",
              "// then passes the result of the previous step as the input to the next step.\n",
              "function _uploadFilesContinue(outputId) {\n",
              "  const outputElement = document.getElementById(outputId);\n",
              "  const steps = outputElement.steps;\n",
              "\n",
              "  const next = steps.next(outputElement.lastPromiseValue);\n",
              "  return Promise.resolve(next.value.promise).then((value) => {\n",
              "    // Cache the last promise value to make it available to the next\n",
              "    // step of the generator.\n",
              "    outputElement.lastPromiseValue = value;\n",
              "    return next.value.response;\n",
              "  });\n",
              "}\n",
              "\n",
              "/**\n",
              " * Generator function which is called between each async step of the upload\n",
              " * process.\n",
              " * @param {string} inputId Element ID of the input file picker element.\n",
              " * @param {string} outputId Element ID of the output display.\n",
              " * @return {!Iterable<!Object>} Iterable of next steps.\n",
              " */\n",
              "function* uploadFilesStep(inputId, outputId) {\n",
              "  const inputElement = document.getElementById(inputId);\n",
              "  inputElement.disabled = false;\n",
              "\n",
              "  const outputElement = document.getElementById(outputId);\n",
              "  outputElement.innerHTML = '';\n",
              "\n",
              "  const pickedPromise = new Promise((resolve) => {\n",
              "    inputElement.addEventListener('change', (e) => {\n",
              "      resolve(e.target.files);\n",
              "    });\n",
              "  });\n",
              "\n",
              "  const cancel = document.createElement('button');\n",
              "  inputElement.parentElement.appendChild(cancel);\n",
              "  cancel.textContent = 'Cancel upload';\n",
              "  const cancelPromise = new Promise((resolve) => {\n",
              "    cancel.onclick = () => {\n",
              "      resolve(null);\n",
              "    };\n",
              "  });\n",
              "\n",
              "  // Wait for the user to pick the files.\n",
              "  const files = yield {\n",
              "    promise: Promise.race([pickedPromise, cancelPromise]),\n",
              "    response: {\n",
              "      action: 'starting',\n",
              "    }\n",
              "  };\n",
              "\n",
              "  cancel.remove();\n",
              "\n",
              "  // Disable the input element since further picks are not allowed.\n",
              "  inputElement.disabled = true;\n",
              "\n",
              "  if (!files) {\n",
              "    return {\n",
              "      response: {\n",
              "        action: 'complete',\n",
              "      }\n",
              "    };\n",
              "  }\n",
              "\n",
              "  for (const file of files) {\n",
              "    const li = document.createElement('li');\n",
              "    li.append(span(file.name, {fontWeight: 'bold'}));\n",
              "    li.append(span(\n",
              "        `(${file.type || 'n/a'}) - ${file.size} bytes, ` +\n",
              "        `last modified: ${\n",
              "            file.lastModifiedDate ? file.lastModifiedDate.toLocaleDateString() :\n",
              "                                    'n/a'} - `));\n",
              "    const percent = span('0% done');\n",
              "    li.appendChild(percent);\n",
              "\n",
              "    outputElement.appendChild(li);\n",
              "\n",
              "    const fileDataPromise = new Promise((resolve) => {\n",
              "      const reader = new FileReader();\n",
              "      reader.onload = (e) => {\n",
              "        resolve(e.target.result);\n",
              "      };\n",
              "      reader.readAsArrayBuffer(file);\n",
              "    });\n",
              "    // Wait for the data to be ready.\n",
              "    let fileData = yield {\n",
              "      promise: fileDataPromise,\n",
              "      response: {\n",
              "        action: 'continue',\n",
              "      }\n",
              "    };\n",
              "\n",
              "    // Use a chunked sending to avoid message size limits. See b/62115660.\n",
              "    let position = 0;\n",
              "    do {\n",
              "      const length = Math.min(fileData.byteLength - position, MAX_PAYLOAD_SIZE);\n",
              "      const chunk = new Uint8Array(fileData, position, length);\n",
              "      position += length;\n",
              "\n",
              "      const base64 = btoa(String.fromCharCode.apply(null, chunk));\n",
              "      yield {\n",
              "        response: {\n",
              "          action: 'append',\n",
              "          file: file.name,\n",
              "          data: base64,\n",
              "        },\n",
              "      };\n",
              "\n",
              "      let percentDone = fileData.byteLength === 0 ?\n",
              "          100 :\n",
              "          Math.round((position / fileData.byteLength) * 100);\n",
              "      percent.textContent = `${percentDone}% done`;\n",
              "\n",
              "    } while (position < fileData.byteLength);\n",
              "  }\n",
              "\n",
              "  // All done.\n",
              "  yield {\n",
              "    response: {\n",
              "      action: 'complete',\n",
              "    }\n",
              "  };\n",
              "}\n",
              "\n",
              "scope.google = scope.google || {};\n",
              "scope.google.colab = scope.google.colab || {};\n",
              "scope.google.colab._files = {\n",
              "  _uploadFiles,\n",
              "  _uploadFilesContinue,\n",
              "};\n",
              "})(self);\n",
              "</script> "
            ]
          },
          "metadata": {}
        },
        {
          "output_type": "stream",
          "name": "stdout",
          "text": [
            "Saving DE.xlsx to DE.xlsx\n",
            "Saving FR.xlsx to FR.xlsx\n",
            "Saving UK.xlsx to UK.xlsx\n",
            "Saving UK_old.xlsx to UK_old.xlsx\n"
          ]
        }
      ]
    },
    {
      "cell_type": "code",
      "source": [
        "# List all files and directories in current directory\n",
        "os.listdir('.')"
      ],
      "metadata": {
        "colab": {
          "base_uri": "https://localhost:8080/"
        },
        "id": "G-CfZN5wYvew",
        "outputId": "a2da48af-4def-462f-bb2f-0b8e11619a5e"
      },
      "execution_count": 125,
      "outputs": [
        {
          "output_type": "execute_result",
          "data": {
            "text/plain": [
              "['.config',\n",
              " 'UK_old.xlsx',\n",
              " 'UK.xlsx',\n",
              " 'DE.xlsx',\n",
              " 'FR.xlsx',\n",
              " 'gdrive',\n",
              " 'sample_data']"
            ]
          },
          "metadata": {},
          "execution_count": 125
        }
      ]
    },
    {
      "cell_type": "markdown",
      "metadata": {
        "id": "bPlad8w9_dfJ"
      },
      "source": [
        "# 3.&nbsp;Folder hierarchy tree"
      ]
    },
    {
      "cell_type": "code",
      "source": [
        "# delete files\n",
        "\n",
        "os.unlink('New_Folder')"
      ],
      "metadata": {
        "colab": {
          "base_uri": "https://localhost:8080/",
          "height": 200
        },
        "id": "AF9Mu1YK7v-z",
        "outputId": "0133ae6a-c251-4ed0-94d2-5a7537148c8d"
      },
      "execution_count": 138,
      "outputs": [
        {
          "output_type": "error",
          "ename": "IsADirectoryError",
          "evalue": "ignored",
          "traceback": [
            "\u001b[0;31m---------------------------------------------------------------------------\u001b[0m",
            "\u001b[0;31mIsADirectoryError\u001b[0m                         Traceback (most recent call last)",
            "\u001b[0;32m<ipython-input-138-5619d33abd25>\u001b[0m in \u001b[0;36m<module>\u001b[0;34m\u001b[0m\n\u001b[1;32m      1\u001b[0m \u001b[0;31m# delete files\u001b[0m\u001b[0;34m\u001b[0m\u001b[0;34m\u001b[0m\u001b[0;34m\u001b[0m\u001b[0m\n\u001b[1;32m      2\u001b[0m \u001b[0;34m\u001b[0m\u001b[0m\n\u001b[0;32m----> 3\u001b[0;31m \u001b[0mos\u001b[0m\u001b[0;34m.\u001b[0m\u001b[0munlink\u001b[0m\u001b[0;34m(\u001b[0m\u001b[0;34m'New_Folder'\u001b[0m\u001b[0;34m)\u001b[0m\u001b[0;34m\u001b[0m\u001b[0;34m\u001b[0m\u001b[0m\n\u001b[0m",
            "\u001b[0;31mIsADirectoryError\u001b[0m: [Errno 21] Is a directory: 'New_Folder'"
          ]
        }
      ]
    },
    {
      "cell_type": "code",
      "execution_count": 139,
      "metadata": {
        "id": "74BL7BcF_dfK",
        "outputId": "deb6e452-c23e-476a-c6c7-e61adc02fa41",
        "colab": {
          "base_uri": "https://localhost:8080/"
        }
      },
      "outputs": [
        {
          "output_type": "stream",
          "name": "stdout",
          "text": [
            "| -------- > MyDrive :\n",
            "| ---------- > Colab Notebooks :\n",
            "| ------------------------------ Python_Basics_Module_1 (10).ipynb\n",
            "| ------------------------------ Practice_Module_1.ipynb\n",
            "| ------------------------------ Python_Basics_Module_1_Cohort_1.ipynb\n",
            "| ------------------------------ Basics_Module_1_Cohort_1 (1).ipynb\n",
            "| ------------------------------ Basics_Module_1_Cohort_1.ipynb\n",
            "| ------------------------------ Python_Basics_Module_1 (9).ipynb\n",
            "| ------------------------------ Python_Basics_Module_1 (8).ipynb\n",
            "| ------------------------------ Python_Basics_Module_1 (7).ipynb\n",
            "| ------------------------------ Python_Basics_Module_1 (6).ipynb\n",
            "| ------------------------------ Python_Basics_Module_1 (5).ipynb\n",
            "| ------------------------------ Python_Basics_Module_1 (4).ipynb\n",
            "| ------------------------------ Python_Basics_Module_1 (3).ipynb\n",
            "| ------------------------------ Python_Basics_Module_1 (2).ipynb\n",
            "| ------------------------------ Python_Basics_Module_1 (1).ipynb\n",
            "| ------------------------------ Python_Basics_Module_1_back_up.ipynb\n",
            "| ------------------------------ Python_Basics_Module_1.ipynb\n",
            "| ------------------------------ Files_Manipulation (1).ipynb\n",
            "| ------------------------------  Files_Manipulation_Module_2_Practice.ipynb\n",
            "| ------------------------------ Files_Manipulation.ipynb\n",
            "| ------------------------------ Files_Manipulation_v2.ipynb\n",
            "| ------------------------------ Manipulation_Module_2.ipynb\n",
            "| ------------------------------ Fille_Manipulation_Module_2_Practice.ipynb\n",
            "| ------------------------------ Copy of Python_Basics_Module_1.ipynb\n",
            "| ------------------------------ Files_Manipulation_Module_2_good (1).ipynb\n",
            "| ------------------------------ Files_Manipulation_Module_2.ipynb\n",
            "| ------------------------------ Files_Manipulation_Module_2_good.ipynb\n",
            "| ---------- > Raw_Excel_Files :\n",
            "| ---------- > New_Folder :\n",
            "| ------------ > Inner_folder :\n"
          ]
        }
      ],
      "source": [
        "# create a function << folder tree >> to display the the hierarchy of your cwd\n",
        "\n",
        "def folder_tree(folder):\n",
        "    for dirpath, dirs, files in os.walk(cwd):\t \n",
        "        if 'checkpoints' not in dirpath:\n",
        "                path = dirpath.split('/')     \n",
        "                print ('|', (len(path))*'--', '>',os.path.basename(dirpath),':')\n",
        "                for f in files:\n",
        "                    print ('|', len(path)*'------', f)\n",
        "                    \n",
        "\n",
        "# call function folder_tree on your cwd\n",
        "\n",
        "folder_tree(cwd)  "
      ]
    },
    {
      "cell_type": "code",
      "source": [
        "# another way to explore your folder/files \n",
        "# create function << folder_tree_2 >>\n",
        "\n",
        "\n",
        "def folder_tree_2(folder):\n",
        "    for dirPath, dirNames, fileNames in os.walk(cwd, topdown=True):\n",
        "        if 'checkpoints' not in dirPath:\n",
        "            print(\"Directory Path: \", dirPath) \n",
        "            print(len(dirNames), \"Directories = \", dirNames )\n",
        "            print(len(fileNames), \"Files = \", fileNames )\n",
        "            print('-'*10)\n",
        "\n",
        "            \n",
        "\n",
        "# call function << folder_tree_2 >> on your cwd\n",
        "# it will return all Directory Paths with contained sub_directories and files\n",
        "# nb of sub_directories and files\n",
        "\n",
        "folder_tree_2(cwd)"
      ],
      "metadata": {
        "colab": {
          "base_uri": "https://localhost:8080/"
        },
        "id": "knqRLZQ-Zavw",
        "outputId": "16d51891-0866-443b-f2b9-91505f85a4ca"
      },
      "execution_count": 127,
      "outputs": [
        {
          "output_type": "stream",
          "name": "stdout",
          "text": [
            "Directory Path:  /content\n",
            "3 Directories =  ['.config', 'gdrive', 'sample_data']\n",
            "4 Files =  ['UK_old.xlsx', 'UK.xlsx', 'DE.xlsx', 'FR.xlsx']\n",
            "----------\n",
            "Directory Path:  /content/.config\n",
            "2 Directories =  ['logs', 'configurations']\n",
            "6 Files =  ['.last_update_check.json', '.last_survey_prompt.yaml', 'active_config', 'config_sentinel', '.last_opt_in_prompt.yaml', 'gce']\n",
            "----------\n",
            "Directory Path:  /content/.config/logs\n",
            "1 Directories =  ['2023.01.27']\n",
            "0 Files =  []\n",
            "----------\n",
            "Directory Path:  /content/.config/logs/2023.01.27\n",
            "0 Directories =  []\n",
            "6 Files =  ['14.36.38.212919.log', '14.36.06.715600.log', '14.35.18.630538.log', '14.36.14.287380.log', '14.36.38.920934.log', '14.35.44.062869.log']\n",
            "----------\n",
            "Directory Path:  /content/.config/configurations\n",
            "0 Directories =  []\n",
            "1 Files =  ['config_default']\n",
            "----------\n",
            "Directory Path:  /content/gdrive\n",
            "4 Directories =  ['MyDrive', '.file-revisions-by-id', '.shortcut-targets-by-id', '.Trash-0']\n",
            "0 Files =  []\n",
            "----------\n",
            "Directory Path:  /content/gdrive/MyDrive\n",
            "3 Directories =  ['Colab Notebooks', 'Raw_Excel_Files', 'New_Folder']\n",
            "0 Files =  []\n",
            "----------\n",
            "Directory Path:  /content/gdrive/MyDrive/Colab Notebooks\n",
            "0 Directories =  []\n",
            "26 Files =  ['Python_Basics_Module_1 (10).ipynb', 'Practice_Module_1.ipynb', 'Python_Basics_Module_1_Cohort_1.ipynb', 'Basics_Module_1_Cohort_1 (1).ipynb', 'Basics_Module_1_Cohort_1.ipynb', 'Python_Basics_Module_1 (9).ipynb', 'Python_Basics_Module_1 (8).ipynb', 'Python_Basics_Module_1 (7).ipynb', 'Python_Basics_Module_1 (6).ipynb', 'Python_Basics_Module_1 (5).ipynb', 'Python_Basics_Module_1 (4).ipynb', 'Python_Basics_Module_1 (3).ipynb', 'Python_Basics_Module_1 (2).ipynb', 'Python_Basics_Module_1 (1).ipynb', 'Python_Basics_Module_1_back_up.ipynb', 'Python_Basics_Module_1.ipynb', 'Files_Manipulation (1).ipynb', ' Files_Manipulation_Module_2_Practice.ipynb', 'Files_Manipulation.ipynb', 'Files_Manipulation_v2.ipynb', 'Manipulation_Module_2.ipynb', 'Fille_Manipulation_Module_2_Practice.ipynb', 'Copy of Python_Basics_Module_1.ipynb', 'Files_Manipulation_Module_2_good (1).ipynb', 'Files_Manipulation_Module_2.ipynb', 'Files_Manipulation_Module_2_good.ipynb']\n",
            "----------\n",
            "Directory Path:  /content/gdrive/MyDrive/Raw_Excel_Files\n",
            "0 Directories =  []\n",
            "0 Files =  []\n",
            "----------\n",
            "Directory Path:  /content/gdrive/MyDrive/New_Folder\n",
            "1 Directories =  ['Inner_folder']\n",
            "0 Files =  []\n",
            "----------\n",
            "Directory Path:  /content/gdrive/MyDrive/New_Folder/Inner_folder\n",
            "0 Directories =  []\n",
            "0 Files =  []\n",
            "----------\n",
            "Directory Path:  /content/gdrive/.file-revisions-by-id\n",
            "0 Directories =  []\n",
            "0 Files =  []\n",
            "----------\n",
            "Directory Path:  /content/gdrive/.shortcut-targets-by-id\n",
            "0 Directories =  []\n",
            "0 Files =  []\n",
            "----------\n",
            "Directory Path:  /content/gdrive/.Trash-0\n",
            "2 Directories =  ['files', 'info']\n",
            "0 Files =  []\n",
            "----------\n",
            "Directory Path:  /content/gdrive/.Trash-0/files\n",
            "0 Directories =  []\n",
            "0 Files =  []\n",
            "----------\n",
            "Directory Path:  /content/gdrive/.Trash-0/info\n",
            "0 Directories =  []\n",
            "0 Files =  []\n",
            "----------\n",
            "Directory Path:  /content/sample_data\n",
            "0 Directories =  []\n",
            "6 Files =  ['README.md', 'anscombe.json', 'california_housing_train.csv', 'mnist_train_small.csv', 'mnist_test.csv', 'california_housing_test.csv']\n",
            "----------\n"
          ]
        }
      ]
    },
    {
      "cell_type": "markdown",
      "source": [
        "# 4.&nbsp;Looking for Files with extensions"
      ],
      "metadata": {
        "id": "FCmGQXHAsiwd"
      }
    },
    {
      "cell_type": "code",
      "execution_count": 128,
      "metadata": {
        "colab": {
          "base_uri": "https://localhost:8080/"
        },
        "id": "pOhA88_hwXk7",
        "outputId": "303e20f3-d8d5-47c3-acf2-ec23876ec6f0"
      },
      "outputs": [
        {
          "output_type": "stream",
          "name": "stdout",
          "text": [
            "there are 4 excel files: \n"
          ]
        },
        {
          "output_type": "execute_result",
          "data": {
            "text/plain": [
              "['UK_old.xlsx', 'UK.xlsx', 'DE.xlsx', 'FR.xlsx']"
            ]
          },
          "metadata": {},
          "execution_count": 128
        }
      ],
      "source": [
        "# create a list  \"excel_files\" with all files that have the extension excel_files in the working directory\n",
        "\n",
        "excel_files=[]\n",
        "for file in os.listdir(cwd):\n",
        "    if file.endswith('.xlsx'): # or '.csv' if your'looinkg for csv files\n",
        "            excel_files.append(file)\n",
        "            \n",
        "# it will print out excel names present in current directory folder = 'Basics_Python\"\n",
        "print( 'there are', len(excel_files), \"excel files: \")\n",
        "excel_files"
      ]
    },
    {
      "cell_type": "code",
      "execution_count": 167,
      "metadata": {
        "colab": {
          "base_uri": "https://localhost:8080/"
        },
        "id": "T9-EafJPwlNw",
        "outputId": "ffa068cd-f1fc-404e-b01a-6e88e3bf6c29"
      },
      "outputs": [
        {
          "output_type": "stream",
          "name": "stdout",
          "text": [
            "[]\n",
            "\n",
            "File names with their paths:\n"
          ]
        }
      ],
      "source": [
        "# check the absolute path of all excel files\n",
        "\n",
        "# we'll use \"glob\" package that works with file paths\n",
        "# glob package is usefull to return all file paths that match a specific pattern\n",
        "\n",
        "# create a list where are stored the paths of every excel file\n",
        "\n",
        "# in the working directory here stored in the variable cwd... \n",
        "# find all files that have the extension .xlsx ...\n",
        "# and then concatenate the working directory path + excel file name ...\n",
        "# we will obtain the absolute path to each excel file ...\n",
        "# and then store them all into a list called \"filespaths\"\n",
        "\n",
        "\n",
        "filespaths = glob.glob(cwd + \"/*.xlsx\")  # create a list that from cwd, will pick up every the ABSOLUTE PATH for files with extention .xlsx\n",
        "print(filespaths)\n",
        "print(\"\")\n",
        "\n",
        "# print out excel paths one by one\n",
        "print('File names with their paths:')\n",
        "for path in filespaths:\n",
        "    print(path)"
      ]
    },
    {
      "cell_type": "markdown",
      "metadata": {
        "id": "cVcMXwSp_dfS"
      },
      "source": [
        "# 4.&nbsp;Change working directory"
      ]
    },
    {
      "cell_type": "code",
      "source": [
        "# if you want to change the current working directory (cwd) \n",
        "\n",
        "# change cwd to folder MyDrive (that is in directory content/gdrive)\n",
        "os.chdir('/content/gdrive/MyDrive')\n",
        "# check the new current working directory now\n",
        "cwd = os.getcwd()\n",
        "cwd"
      ],
      "metadata": {
        "colab": {
          "base_uri": "https://localhost:8080/",
          "height": 35
        },
        "id": "XQ-pL1_8XKud",
        "outputId": "e698a4cc-8c5b-4e24-c40b-7ab20b2d9543"
      },
      "execution_count": 130,
      "outputs": [
        {
          "output_type": "execute_result",
          "data": {
            "text/plain": [
              "'/content/gdrive/MyDrive'"
            ],
            "application/vnd.google.colaboratory.intrinsic+json": {
              "type": "string"
            }
          },
          "metadata": {},
          "execution_count": 130
        }
      ]
    },
    {
      "cell_type": "code",
      "source": [
        "# List all files and directories in the new current directory << MyDrive >>\n",
        "os.listdir('.')"
      ],
      "metadata": {
        "colab": {
          "base_uri": "https://localhost:8080/"
        },
        "id": "WJW-tAbOXabC",
        "outputId": "12df616a-a817-4552-926c-15ecf8240f30"
      },
      "execution_count": 131,
      "outputs": [
        {
          "output_type": "execute_result",
          "data": {
            "text/plain": [
              "['Colab Notebooks', 'Raw_Excel_Files', 'New_Folder']"
            ]
          },
          "metadata": {},
          "execution_count": 131
        }
      ]
    },
    {
      "cell_type": "markdown",
      "metadata": {
        "id": "klW5vu46w_Kj"
      },
      "source": [
        "# 5.&nbsp;Manipulate Directories"
      ]
    },
    {
      "cell_type": "markdown",
      "source": [
        "## Create a new folder"
      ],
      "metadata": {
        "id": "PVVj46wU1IDj"
      }
    },
    {
      "cell_type": "code",
      "execution_count": 64,
      "metadata": {
        "colab": {
          "base_uri": "https://localhost:8080/"
        },
        "id": "bFIMYI_UxCJ2",
        "outputId": "2c6b6f66-f877-4fdb-fa64-b102a18c687f"
      },
      "outputs": [
        {
          "output_type": "stream",
          "name": "stdout",
          "text": [
            "/content/gdrive/MyDrive/Raw_Files\n"
          ]
        }
      ],
      "source": [
        "# create a new folder called \"Raw_Files\"\n",
        "\n",
        "# First: \n",
        "# write the path to the \"Raw_Files\" sub_directory\n",
        "folder = cwd + '/' + 'Raw_Files' # == > /content/gdrive/MyDrive/Raw_Files\n",
        "print(folder)\n",
        "\n",
        "# Second:\n",
        "# create the folder at the indicated path\n",
        "os.makedirs(folder) # create an empty folder called << Raw_Files >>"
      ]
    },
    {
      "cell_type": "code",
      "source": [
        "# now check the sub_directories in cwd with os.listdir()\n",
        "\n",
        "os.listdir('.')"
      ],
      "metadata": {
        "colab": {
          "base_uri": "https://localhost:8080/"
        },
        "id": "WYSDSulCyvEm",
        "outputId": "95a27707-19ef-4cb3-89f4-e4c87654b592"
      },
      "execution_count": 65,
      "outputs": [
        {
          "output_type": "execute_result",
          "data": {
            "text/plain": [
              "['Colab Notebooks', 'Raw_Files']"
            ]
          },
          "metadata": {},
          "execution_count": 65
        }
      ]
    },
    {
      "cell_type": "markdown",
      "source": [
        "## Rename Folders"
      ],
      "metadata": {
        "id": "C1Umqr6K1P12"
      }
    },
    {
      "cell_type": "code",
      "execution_count": 66,
      "metadata": {
        "id": "MoC3H5lP_dfI"
      },
      "outputs": [],
      "source": [
        "# rename folder <<Raw_Files>> in  <<Raw_Excel_Files folder>>\n",
        "\n",
        "new_name= 'Raw_Excel_Files' # variable containing the new name value\n",
        "\n",
        "os.rename(folder, new_name) # it will rename \"Raw_Files\" into 'Raw_Excel_Files'\n",
        "\n",
        "# now check the sub_directories in cwd with os.listdir()\n",
        "\n",
        "os.listdir('.')"
      ]
    },
    {
      "cell_type": "markdown",
      "source": [
        "## Nested Folders"
      ],
      "metadata": {
        "id": "DAPHBheo1VPS"
      }
    },
    {
      "cell_type": "code",
      "execution_count": 68,
      "metadata": {
        "colab": {
          "base_uri": "https://localhost:8080/",
          "height": 35
        },
        "id": "_Oq-PpDbxE-t",
        "outputId": "d9880655-ef4d-4d22-8c6a-614105f90561"
      },
      "outputs": [
        {
          "output_type": "execute_result",
          "data": {
            "text/plain": [
              "'/content/gdrive/MyDrive/New_Folder/Inner_folder'"
            ],
            "application/vnd.google.colaboratory.intrinsic+json": {
              "type": "string"
            }
          },
          "metadata": {},
          "execution_count": 68
        }
      ],
      "source": [
        "# Create a nested folder (folder in the folder)\n",
        "\n",
        "other = cwd + '/' + 'New_Folder' + '/' +'Inner_folder' \n",
        "os.makedirs(other)\n",
        "other # the folder \"New_Folder\" will contain another empty folder \"Inner Folder\""
      ]
    },
    {
      "cell_type": "code",
      "source": [
        "# now check the sub_directories in cwd with os.listdir()\n",
        "\n",
        "os.listdir('.')"
      ],
      "metadata": {
        "colab": {
          "base_uri": "https://localhost:8080/"
        },
        "id": "08SG9wSL1eIW",
        "outputId": "71fb97ee-da7d-4b7d-84a3-36f506764280"
      },
      "execution_count": 69,
      "outputs": [
        {
          "output_type": "execute_result",
          "data": {
            "text/plain": [
              "['Colab Notebooks', 'Raw_Excel_Files', 'New_Folder']"
            ]
          },
          "metadata": {},
          "execution_count": 69
        }
      ]
    },
    {
      "cell_type": "markdown",
      "metadata": {
        "id": "pt37qb5y_dfL"
      },
      "source": [
        "## Navigate in tree hierarchy"
      ]
    },
    {
      "cell_type": "code",
      "execution_count": 70,
      "metadata": {
        "id": "tPrUfZ8d_dfM",
        "outputId": "45d9162a-3ab0-4482-afd5-653af29c949d",
        "colab": {
          "base_uri": "https://localhost:8080/"
        }
      },
      "outputs": [
        {
          "output_type": "execute_result",
          "data": {
            "text/plain": [
              "['Colab Notebooks', 'Raw_Excel_Files', 'New_Folder']"
            ]
          },
          "metadata": {},
          "execution_count": 70
        }
      ],
      "source": [
        "# list all files in the current directoy\n",
        "\n",
        "os.listdir('.')"
      ]
    },
    {
      "cell_type": "code",
      "execution_count": 71,
      "metadata": {
        "id": "sd5ghfUK_dfM",
        "outputId": "acfcdb62-d4c0-4284-f6c9-f3b17e2bf1ac",
        "colab": {
          "base_uri": "https://localhost:8080/"
        }
      },
      "outputs": [
        {
          "output_type": "execute_result",
          "data": {
            "text/plain": [
              "['MyDrive', '.file-revisions-by-id', '.shortcut-targets-by-id', '.Trash-0']"
            ]
          },
          "metadata": {},
          "execution_count": 71
        }
      ],
      "source": [
        "# move up in the hierarchy to list the files from the upper level \n",
        "\n",
        "os.listdir('..')"
      ]
    },
    {
      "cell_type": "code",
      "execution_count": 73,
      "metadata": {
        "id": "kw2WlP2e_dfN",
        "outputId": "f4f8df84-7bb4-457e-eceb-38b96ca160c0",
        "colab": {
          "base_uri": "https://localhost:8080/"
        }
      },
      "outputs": [
        {
          "output_type": "stream",
          "name": "stdout",
          "text": [
            "['Inner_folder']\n"
          ]
        }
      ],
      "source": [
        "# list files inside a specific folder (get children)\n",
        "\n",
        "print (os.listdir('New_Folder'))\n"
      ]
    },
    {
      "cell_type": "code",
      "execution_count": 84,
      "metadata": {
        "id": "pImwa3TA_dfN",
        "outputId": "7e769bab-783f-4212-d469-9e8d0c537e91",
        "colab": {
          "base_uri": "https://localhost:8080/"
        }
      },
      "outputs": [
        {
          "output_type": "stream",
          "name": "stdout",
          "text": [
            "/content/gdrive/MyDrive\n"
          ]
        }
      ],
      "source": [
        "# get parent of a scpecific folder (go back with 1 level)\n",
        "\n",
        "# save path to New_FOlder\n",
        "new_folder = '/content/gdrive/MyDrive/New_Folder' \n",
        "\n",
        "# prit parent of Inner_Folder\n",
        "print(Path(new_folder).parents[0])\n"
      ]
    },
    {
      "cell_type": "code",
      "execution_count": 83,
      "metadata": {
        "id": "yHEx2ok__dfO",
        "outputId": "83d3037b-0df3-4d6a-fa77-bb09db91a02a",
        "colab": {
          "base_uri": "https://localhost:8080/"
        }
      },
      "outputs": [
        {
          "output_type": "stream",
          "name": "stdout",
          "text": [
            "/content/gdrive\n"
          ]
        }
      ],
      "source": [
        "# get grand parent of a scpecific folder (go back with 2 levels)\n",
        "\n",
        "print(Path(new_folder).parents[1])\n"
      ]
    },
    {
      "cell_type": "markdown",
      "source": [
        "## Paths to the folders"
      ],
      "metadata": {
        "id": "bgTrGUaYFzMk"
      }
    },
    {
      "cell_type": "code",
      "source": [
        "# Find Paths\n",
        "\n",
        "# relative path ==> only the final file name\n",
        "print('Relative path of file:     ', os.path.relpath('Raw_Excel_Files') )\n",
        "\n",
        "# Absolute directoryname ==> the path up to the up_directories (parents)\n",
        "print('Absolute directoryname: ',  os.path.dirname(os.path.abspath('Raw_Excel_Files')))\n",
        "\n",
        "# Absolute path ==> the whole path with the file name included\n",
        "print('Absolute path of file:     ',  os.path.abspath('Raw_Excel_Files'))\n"
      ],
      "metadata": {
        "colab": {
          "base_uri": "https://localhost:8080/"
        },
        "id": "P8uJTXfcCFI4",
        "outputId": "ee695d28-61bc-4850-af94-73a52935ebe2"
      },
      "execution_count": null,
      "outputs": [
        {
          "output_type": "stream",
          "name": "stdout",
          "text": [
            "Relative path of file:      Raw_Excel_Files\n",
            "Absolute directoryname:  /content/gdrive/MyDrive\n",
            "Absolute path of file:      /content/gdrive/MyDrive/Raw_Excel_Files\n"
          ]
        }
      ]
    },
    {
      "cell_type": "markdown",
      "metadata": {
        "id": "Jgviz2daz65q"
      },
      "source": [
        "# 6.&nbsp;Copy File\n"
      ]
    },
    {
      "cell_type": "code",
      "source": [
        "# reminder of containing in cwd: MyDrive\n",
        "\n",
        "os.listdir('.')"
      ],
      "metadata": {
        "colab": {
          "base_uri": "https://localhost:8080/"
        },
        "id": "IMcy5Fj_5qXR",
        "outputId": "3a6e3e03-5c92-4baf-f57e-1a43328c7e60"
      },
      "execution_count": 156,
      "outputs": [
        {
          "output_type": "execute_result",
          "data": {
            "text/plain": [
              "['Colab Notebooks', 'Raw_Excel_Files', 'New_Folder']"
            ]
          },
          "metadata": {},
          "execution_count": 156
        }
      ]
    },
    {
      "cell_type": "code",
      "source": [
        "# reminder of containing in content directory\n",
        "\n",
        "os.listdir('/content')"
      ],
      "metadata": {
        "colab": {
          "base_uri": "https://localhost:8080/"
        },
        "id": "AWkt3KmYJNoz",
        "outputId": "0396d14f-fd3d-40b0-b291-4aed1ecaf402"
      },
      "execution_count": 180,
      "outputs": [
        {
          "output_type": "execute_result",
          "data": {
            "text/plain": [
              "['.config',\n",
              " 'UK_old.xlsx',\n",
              " 'UK.xlsx',\n",
              " 'DE.xlsx',\n",
              " 'FR.xlsx',\n",
              " 'gdrive',\n",
              " 'sample_data']"
            ]
          },
          "metadata": {},
          "execution_count": 180
        }
      ]
    },
    {
      "cell_type": "markdown",
      "source": [
        "## Copy a single file"
      ],
      "metadata": {
        "id": "r0RDXm1dKgH2"
      }
    },
    {
      "cell_type": "code",
      "execution_count": 140,
      "metadata": {
        "id": "jIlgijfL_dfO"
      },
      "outputs": [],
      "source": [
        "# copy one file in another folder\n",
        "\n",
        "# we want to copy UK.xlsx file  in 'Raw_Excel_Files' folder\n",
        "\n",
        "# destination WHERE we want to copy \n",
        "dest = 'Raw_Excel_Files'\n",
        "\n",
        "# source file : WHAT we want to copy\n",
        "src=  '/content/UK.xlsx' # source ==> the path to the file that we want to copy (we wuse absoute path as UK.xlsx is outside cwd)"
      ]
    },
    {
      "cell_type": "code",
      "execution_count": 141,
      "metadata": {
        "colab": {
          "base_uri": "https://localhost:8080/",
          "height": 35
        },
        "id": "bWw3YvhHxguf",
        "outputId": "25a6b6f2-3f35-4ab7-aa9f-49f4f33cd8af"
      },
      "outputs": [
        {
          "output_type": "execute_result",
          "data": {
            "text/plain": [
              "'Raw_Excel_Files/UK.xlsx'"
            ],
            "application/vnd.google.colaboratory.intrinsic+json": {
              "type": "string"
            }
          },
          "metadata": {},
          "execution_count": 141
        }
      ],
      "source": [
        "# work with shutil package\n",
        "''' Shutil module offers high-level operation on a file like a copy, create, move\n",
        "and remote operation on the file '''\n",
        "\n",
        "#  copy the file from the source <<src>> in the folder we want << dest >>\n",
        "shutil.copy(src, # what file we want to copy, more specifically its path\n",
        "            dest) # path to the folder we want to paste the copied file"
      ]
    },
    {
      "cell_type": "code",
      "execution_count": 143,
      "metadata": {
        "colab": {
          "base_uri": "https://localhost:8080/",
          "height": 35
        },
        "id": "wQKytxOX1SSm",
        "outputId": "27f2a845-a14a-4314-a3e1-67992fa25a96"
      },
      "outputs": [
        {
          "output_type": "execute_result",
          "data": {
            "text/plain": [
              "'Raw_Excel_Files/FR.xlsx'"
            ],
            "application/vnd.google.colaboratory.intrinsic+json": {
              "type": "string"
            }
          },
          "metadata": {},
          "execution_count": 143
        }
      ],
      "source": [
        "# file that we want to copy : FR.xlsx\n",
        "src='/content/FR.xlsx'\n",
        "\n",
        "# copy the file in the folder we want\n",
        "shutil.copy(src, dest)"
      ]
    },
    {
      "cell_type": "code",
      "execution_count": 144,
      "metadata": {
        "colab": {
          "base_uri": "https://localhost:8080/",
          "height": 35
        },
        "outputId": "82eb1063-77a7-43ca-e102-b407cf5f748c",
        "id": "ry059DRi_dfR"
      },
      "outputs": [
        {
          "output_type": "execute_result",
          "data": {
            "text/plain": [
              "'Raw_Excel_Files/DE.xlsx'"
            ],
            "application/vnd.google.colaboratory.intrinsic+json": {
              "type": "string"
            }
          },
          "metadata": {},
          "execution_count": 144
        }
      ],
      "source": [
        "# file that we want to copy : DE.xlsx\n",
        "src='/content/DE.xlsx'\n",
        "\n",
        "# copy the file in the folder we want\n",
        "shutil.copy(src, dest)"
      ]
    },
    {
      "cell_type": "code",
      "source": [
        "# and now look at the containing of Raw_Excel_Files'\n",
        "\n",
        "os.listdir('Raw_Excel_Files')"
      ],
      "metadata": {
        "colab": {
          "base_uri": "https://localhost:8080/"
        },
        "id": "-WJNe2zk-aAS",
        "outputId": "7d1f9d22-c699-41fa-a19b-23848d3cdbff"
      },
      "execution_count": 153,
      "outputs": [
        {
          "output_type": "execute_result",
          "data": {
            "text/plain": [
              "['UK.xlsx', 'FR.xlsx', 'DE.xlsx']"
            ]
          },
          "metadata": {},
          "execution_count": 153
        }
      ]
    },
    {
      "cell_type": "markdown",
      "source": [
        "## Copy multiple files at once"
      ],
      "metadata": {
        "id": "30Bfuo5yKlhn"
      }
    },
    {
      "cell_type": "code",
      "source": [
        "# find all absolute paths to our xlsx files in 'Raw_Excel_Files' with glob\n",
        "\n",
        "path = 'Raw_Excel_Files'\n",
        "\n",
        "# create a list filespaths that ..\n",
        "# ... will contain the paths to all files with extension .xlsx\n",
        "filespaths = glob.glob(os.path.abspath(path) + \"/*.xlsx\")\n",
        "filespaths"
      ],
      "metadata": {
        "colab": {
          "base_uri": "https://localhost:8080/"
        },
        "id": "LiRv6xydD8wf",
        "outputId": "f32fa263-3a82-401b-d25a-1905e4eefc7e"
      },
      "execution_count": 181,
      "outputs": [
        {
          "output_type": "execute_result",
          "data": {
            "text/plain": [
              "['/content/gdrive/MyDrive/Raw_Excel_Files/UK.xlsx',\n",
              " '/content/gdrive/MyDrive/Raw_Excel_Files/FR.xlsx',\n",
              " '/content/gdrive/MyDrive/Raw_Excel_Files/DE.xlsx']"
            ]
          },
          "metadata": {},
          "execution_count": 181
        }
      ]
    },
    {
      "cell_type": "code",
      "execution_count": 182,
      "metadata": {
        "id": "bdsQE7Fh_dfR",
        "outputId": "682db02a-e3ea-413d-8501-d446b4603ff3",
        "colab": {
          "base_uri": "https://localhost:8080/"
        }
      },
      "outputs": [
        {
          "output_type": "stream",
          "name": "stdout",
          "text": [
            "['/content/gdrive/MyDrive/Raw_Excel_Files/UK.xlsx', '/content/gdrive/MyDrive/Raw_Excel_Files/FR.xlsx', '/content/gdrive/MyDrive/Raw_Excel_Files/DE.xlsx']\n",
            "/content/gdrive/MyDrive\n"
          ]
        }
      ],
      "source": [
        "# copy the multiple files in the folder we want\n",
        "\n",
        "dest = cwd # we want to copy our file in cwd MyDrive\n",
        "\n",
        "# we want to copy all excel files in Raw_Excel_Files in dest\n",
        "print(filespaths)\n",
        "print(dest)\n",
        "\n",
        "for file in filespaths:\n",
        "    shutil.copy(file, dest)"
      ]
    },
    {
      "cell_type": "code",
      "source": [
        "# check the cwd containing again to notify the presece of excel files\n",
        "os.listdir('.')\n"
      ],
      "metadata": {
        "colab": {
          "base_uri": "https://localhost:8080/"
        },
        "id": "qCs2wZZFE9RZ",
        "outputId": "850a240b-f2d6-4fb2-e934-d3c65869aadb"
      },
      "execution_count": 183,
      "outputs": [
        {
          "output_type": "execute_result",
          "data": {
            "text/plain": [
              "['Colab Notebooks',\n",
              " 'Raw_Excel_Files',\n",
              " 'New_Folder',\n",
              " 'UK.xlsx',\n",
              " 'FR.xlsx',\n",
              " 'DE.xlsx']"
            ]
          },
          "metadata": {},
          "execution_count": 183
        }
      ]
    },
    {
      "cell_type": "markdown",
      "metadata": {
        "id": "ot-XcKgS0vli"
      },
      "source": [
        "# 7.&nbsp;Move File"
      ]
    },
    {
      "cell_type": "code",
      "execution_count": 184,
      "metadata": {
        "id": "MC1Fq8YA_dfT",
        "outputId": "a0dca93e-1f40-45d2-a3ac-0b2ed794af89",
        "colab": {
          "base_uri": "https://localhost:8080/"
        }
      },
      "outputs": [
        {
          "output_type": "stream",
          "name": "stdout",
          "text": [
            "/content/gdrive/MyDrive/Old_Files\n"
          ]
        },
        {
          "output_type": "execute_result",
          "data": {
            "text/plain": [
              "['Colab Notebooks',\n",
              " 'Raw_Excel_Files',\n",
              " 'New_Folder',\n",
              " 'UK.xlsx',\n",
              " 'FR.xlsx',\n",
              " 'DE.xlsx',\n",
              " 'Old_Files']"
            ]
          },
          "metadata": {},
          "execution_count": 184
        }
      ],
      "source": [
        "# create a folder << Old_Files >> where we would like to move files \n",
        "\n",
        "# First: write the path to folder\n",
        "folder_1 = cwd + '/' + 'Old_Files'\n",
        "print(folder_1)\n",
        "\n",
        "# Second: create the folder at the indicated path\n",
        "os.makedirs(folder_1)\n",
        "\n",
        "# check cwd\n",
        "os.listdir('.')"
      ]
    },
    {
      "cell_type": "code",
      "execution_count": 191,
      "metadata": {
        "colab": {
          "base_uri": "https://localhost:8080/"
        },
        "id": "aRJI5bND0ySA",
        "outputId": "a694b3a0-ff9f-416c-a034-bc32e8d9d29d"
      },
      "outputs": [
        {
          "output_type": "stream",
          "name": "stdout",
          "text": [
            "content:  ['.config', 'UK.xlsx', 'DE.xlsx', 'FR.xlsx', 'gdrive', 'sample_data']\n",
            "MyDrive/Old_Files:  ['UK_old.xlsx']\n"
          ]
        }
      ],
      "source": [
        "# folder_to_move (it would be like cut/paste\n",
        "\n",
        "file_to_move = '/content/UK_old.xlsx' # from directory content\n",
        "\n",
        "shutil.move(file_to_move, # file/folder to cut\n",
        "           folder_1) # folder where to move = '/content/gdrive/MyDrive/Old_Files/UK_old.xlsx'  \n",
        "           \n",
        "\n",
        "# check directory content\n",
        "print('content: ', os.listdir('/content'))  # now UK_old.xlsx has disapeared for content\n",
        "      \n",
        "# check directory MyDrive/Old_Files\n",
        "print('MyDrive/Old_Files: ', os.listdir('Old_Files'))  # now UK_old.xlsx has disapeared for content"
      ]
    },
    {
      "cell_type": "markdown",
      "metadata": {
        "id": "mXx48d0W2427"
      },
      "source": [
        "# 5.&nbsp;Delete Files"
      ]
    },
    {
      "cell_type": "code",
      "execution_count": null,
      "metadata": {
        "id": "RYdN0l___dfU"
      },
      "outputs": [],
      "source": [
        "cwd"
      ]
    },
    {
      "cell_type": "code",
      "execution_count": null,
      "metadata": {
        "id": "rOYRvWSr2a0q"
      },
      "outputs": [],
      "source": [
        "# delete a file DE.xlsx from Raw_Files folder\n",
        "os.unlink('Old_Files/UK_old.xlsx') # relative path as UK_old in the working directory"
      ]
    },
    {
      "cell_type": "code",
      "execution_count": null,
      "metadata": {
        "id": "DxLnN3ya3KWN"
      },
      "outputs": [],
      "source": [
        "# delete empty folder 'Old_Files' from Raw_Files folder \n",
        "# ..go back in the Excel_Automation_Python...\n",
        "\n",
        "folder_to_remove= 'Old_Files'\n",
        "os.rmdir(folder_to_remove)"
      ]
    },
    {
      "cell_type": "code",
      "execution_count": null,
      "metadata": {
        "id": "eV1B39qb3iCB"
      },
      "outputs": [],
      "source": [
        "# delete NOT empty folder\n",
        "\n",
        "# New_Folder contains another file 'Inner_folder'\n",
        "print( os.listdir('/home/e57658/workspace/Excel_Automation_Python/New_Folder'))\n",
        "\n",
        "shutil.rmtree('/home/e57658/workspace/Excel_Automation_Python/New_Folder') \n",
        "# here we used the absolute path \n",
        "# we can NOT use relative path for folders / files as they are NOT present in cwd"
      ]
    },
    {
      "cell_type": "code",
      "execution_count": null,
      "metadata": {
        "id": "qGwt9i5N3z7R"
      },
      "outputs": [],
      "source": [
        "# now that we check the list in the upper level of files tree\n",
        "# we see  that New_Folder has disapeared\n",
        "\n",
        "os.listdir('..')"
      ]
    },
    {
      "cell_type": "markdown",
      "metadata": {
        "id": "0fgLzMm584mg"
      },
      "source": [
        "# Work with Excel Files\n"
      ]
    },
    {
      "cell_type": "raw",
      "metadata": {
        "id": "YURQ1cSY_dfW"
      },
      "source": [
        "We want to process some raw files and store them in a new separate file : Precessed_Files"
      ]
    },
    {
      "cell_type": "code",
      "execution_count": null,
      "metadata": {
        "id": "GoObcU-7_dfW"
      },
      "outputs": [],
      "source": [
        "# the path to the new folder\n",
        "cwd + '/' + 'Processed_Files'"
      ]
    },
    {
      "cell_type": "code",
      "execution_count": null,
      "metadata": {
        "id": "Eml73ZwN9Z-V"
      },
      "outputs": [],
      "source": [
        "# Create a folder 'Processed_Files' in the cwd where we'll store all processed files \n",
        "\n",
        "des = cwd + '/' + 'Processed_Files'\n",
        "os.makedirs(des)"
      ]
    },
    {
      "cell_type": "raw",
      "metadata": {
        "id": "uUzSvFQW_dfX"
      },
      "source": [
        "Steps in files processing ...."
      ]
    },
    {
      "cell_type": "markdown",
      "metadata": {
        "id": "7EImbUAb-oBT"
      },
      "source": [
        "\n",
        "\n",
        "1.  First read each excel files and put them into pandas dataframe\n",
        "2.  Consolidate all excel files into a single excel with separate sheet by country\n",
        "3.  Consolidate all excels into a single excel sheet\n",
        "\n"
      ]
    },
    {
      "cell_type": "markdown",
      "metadata": {
        "id": "Z1bvAVLN_dfX"
      },
      "source": [
        "## Read excels"
      ]
    },
    {
      "cell_type": "code",
      "execution_count": null,
      "metadata": {
        "id": "5Vlm5_yr89UT"
      },
      "outputs": [],
      "source": [
        "# if the excel file has too many rows, when visualising the data, not all columns are displayed\n",
        "# to overcome this we use .set_option method\n",
        "\n",
        "# set visible all columns\n",
        "pd.set_option('display.max_columns', None)"
      ]
    },
    {
      "cell_type": "code",
      "execution_count": null,
      "metadata": {
        "id": "7qNp7_9l9ORl"
      },
      "outputs": [],
      "source": [
        "# DE.xlsx file\n",
        "\n",
        "# store the nme of the file in filename variable\n",
        "filename = 'DE.xlsx'\n",
        "# read the excel file with .read_excel method\n",
        "de = pd.read_excel(filename, # the file we want to read\n",
        "                   index_col=None, # do not add column index\n",
        "                   header=0) # the first row to be used as headers (column names)\n",
        "\n",
        "# check dataframe shape\n",
        "print('Dataframe Shape: ', de.shape)\n",
        "de.head()"
      ]
    },
    {
      "cell_type": "code",
      "execution_count": null,
      "metadata": {
        "id": "q-ZJeXh4_KBz"
      },
      "outputs": [],
      "source": [
        "# add a column 'Country' to diferentiate the data in the consilidated dataframe\n",
        "de['Country']= 'DE'\n",
        "\n",
        "# check dataframe shape after adding the new column\n",
        "print('Dataframe Shape: ', de.shape)\n",
        "\n",
        "# visualize first rows\n",
        "de.head()"
      ]
    },
    {
      "cell_type": "code",
      "execution_count": null,
      "metadata": {
        "id": "EJdbhRHx-gDK"
      },
      "outputs": [],
      "source": [
        "print('nb of columns: ', len(de.columns))\n",
        "print('nb of rows: ', len(de))\n",
        "de.columns"
      ]
    },
    {
      "cell_type": "code",
      "execution_count": null,
      "metadata": {
        "id": "8epCZNIl_Put"
      },
      "outputs": [],
      "source": [
        "# FR\n",
        "filename = 'FR.xlsx'\n",
        "fr = pd.read_excel(filename, index_col=None, header=0)\n",
        "\n",
        "\n",
        "# add a column 'Country' to diferentiate the data in the consilidated dataframe\n",
        "fr['Country']= 'FR'\n",
        "\n",
        "# check dataframe shape, dimensions after adding the new column\n",
        "print('Dataframe Shape: ', fr.shape)\n",
        "print('nb of columns: ', len(fr.columns))\n",
        "print('nb of rows: ', len(fr))\n",
        "\n",
        "# print column names \n",
        "print('column names: ', fr.columns)\n",
        "\n",
        "# visualize first rows\n",
        "fr.head()"
      ]
    },
    {
      "cell_type": "code",
      "execution_count": null,
      "metadata": {
        "id": "qmpsNlOW_lzx"
      },
      "outputs": [],
      "source": [
        "# FR\n",
        "filename = 'UK.xlsx'\n",
        "uk = pd.read_excel(filename, index_col=None, header=0)\n",
        "\n",
        "\n",
        "# add a column 'Country' to diferentiate the data in the consilidated dataframe\n",
        "uk['Country']= 'UK'\n",
        "\n",
        "# check dataframe shape, dimensions after adding the new column\n",
        "print('Dataframe Shape: ', uk.shape)\n",
        "print('nb of columns: ', len(uk.columns))\n",
        "print('nb of rows: ', len(uk))\n",
        "\n",
        "# print column names \n",
        "print('column names: ', uk.columns)\n",
        "\n",
        "# visualize first rows\n",
        "uk.head()"
      ]
    },
    {
      "cell_type": "markdown",
      "metadata": {
        "id": "oVUypWR__dfa"
      },
      "source": [
        "## Single excel file with separate sheet by country"
      ]
    },
    {
      "cell_type": "markdown",
      "metadata": {
        "id": "1PfPXAglA_5-"
      },
      "source": [
        "Create an excel file where country would be on a separate sheet"
      ]
    },
    {
      "cell_type": "code",
      "execution_count": null,
      "metadata": {
        "id": "m9lLicSB_rER"
      },
      "outputs": [],
      "source": [
        "# create excel writer in the Processed_Files folder with the name 'Consolidation_by_sheet'\n",
        "writer = pd.ExcelWriter('Processed_Files/Consolidated_by_sheet.xlsx')\n",
        "# write dataframe to excel sheet named 'marks'\n",
        "uk.to_excel(writer, 'UK')\n",
        "fr.to_excel(writer, 'FR')\n",
        "de.to_excel(writer, 'DE')\n",
        "\n",
        "# - > !!!! save and close the excel file (important)\n",
        "writer.save()\n",
        "writer.close()"
      ]
    },
    {
      "cell_type": "markdown",
      "metadata": {
        "id": "RyLObXdTBH1N"
      },
      "source": [
        "## Consolidate all excels into a single excel sheet"
      ]
    },
    {
      "cell_type": "code",
      "execution_count": null,
      "metadata": {
        "id": "qWGHukDy_dfb"
      },
      "outputs": [],
      "source": [
        "frames = [de, fr, uk]\n",
        "\n",
        "df_concat = pd.concat(frames)\n",
        "\n",
        "print(df_concat.shape)\n",
        "\n",
        "# display first rows\n",
        "df_concat.head()"
      ]
    },
    {
      "cell_type": "code",
      "execution_count": null,
      "metadata": {
        "id": "uCKOn1kI_dfb"
      },
      "outputs": [],
      "source": [
        "# diplay last rows\n",
        "df_concat.tail()"
      ]
    },
    {
      "cell_type": "code",
      "execution_count": null,
      "metadata": {
        "id": "t_eBZayU_dfc"
      },
      "outputs": [],
      "source": [
        "# to consolidate multiple dataframes, there are 3 rules:\n",
        "# they have to have the same nb of columns (here all 3 df have 15 columns)\n",
        "# to concatenate by column names, all df have to have the same column names\n",
        "# the dfs must have same column order\n",
        "\n",
        "print(\"Column nb of DE: \", len(de.columns), de.columns)\n",
        "print(\"Column nb of FR: \", len(fr.columns), fr.columns)\n",
        "print(\"Column nb of UK: \", len(uk.columns), uk.columns)"
      ]
    },
    {
      "cell_type": "code",
      "execution_count": null,
      "metadata": {
        "id": "ncF6rqze_dfc"
      },
      "outputs": [],
      "source": [
        "# rename the dfs columns o they would be identical\n",
        "# we will use english column names for all dfs\n",
        "\n",
        "columns = uk.columns\n",
        "\n",
        "fr.columns = columns\n",
        "de.columns = columns\n",
        "\n",
        "print(\"Column nb of DE: \", len(de.columns), de.columns)\n",
        "print(\"Column nb of FR: \", len(fr.columns), fr.columns)\n",
        "print(\"Column nb of UK: \", len(uk.columns), uk.columns)"
      ]
    },
    {
      "cell_type": "code",
      "execution_count": null,
      "metadata": {
        "id": "sLHprNJd_dfd"
      },
      "outputs": [],
      "source": [
        "# this time the concatenation of dfs is correct\n",
        "\n",
        "df_concat = pd.concat(frames)\n",
        "\n",
        "print(df_concat.shape)\n",
        "df_concat.head()"
      ]
    },
    {
      "cell_type": "code",
      "execution_count": null,
      "metadata": {
        "id": "AY7QuVbE_dfd"
      },
      "outputs": [],
      "source": [
        "# last rows\n",
        "df_concat.tail()"
      ]
    },
    {
      "cell_type": "code",
      "execution_count": null,
      "metadata": {
        "id": "_lWwQnt7_dfd"
      },
      "outputs": [],
      "source": [
        "# create excel writer in the Processed_Files with the name 'Consolidation'\n",
        "writer = pd.ExcelWriter('Processed_Files/Consolidation.xlsx')\n",
        "\n",
        "# write dataframe to excel sheet named 'marks'\n",
        "df_concat.to_excel(writer, 'Consolidation')\n",
        "\n",
        "# save the excel file\n",
        "writer.save()\n",
        "writer.close()"
      ]
    },
    {
      "cell_type": "markdown",
      "metadata": {
        "id": "ktm1SmGr_dfe"
      },
      "source": [
        "# Reinitiate original folder"
      ]
    },
    {
      "cell_type": "code",
      "execution_count": null,
      "metadata": {
        "id": "lcou2vbv_dfe"
      },
      "outputs": [],
      "source": [
        "cwd"
      ]
    },
    {
      "cell_type": "code",
      "execution_count": null,
      "metadata": {
        "id": "TakbtTKp_dfe"
      },
      "outputs": [],
      "source": [
        "# delete Raw_Excel_Files to reinitiate the whole folder\n",
        "\n",
        "shutil.rmtree('/home/e57658/workspace/Excel_Automation_Python/Raw_Excel_Files') "
      ]
    },
    {
      "cell_type": "code",
      "execution_count": null,
      "metadata": {
        "id": "9frgfoQc_dff"
      },
      "outputs": [],
      "source": []
    }
  ],
  "metadata": {
    "colab": {
      "provenance": [],
      "toc_visible": true,
      "include_colab_link": true
    },
    "kernelspec": {
      "display_name": "Python 3 (ipykernel)",
      "language": "python",
      "name": "python3"
    },
    "language_info": {
      "codemirror_mode": {
        "name": "ipython",
        "version": 3
      },
      "file_extension": ".py",
      "mimetype": "text/x-python",
      "name": "python",
      "nbconvert_exporter": "python",
      "pygments_lexer": "ipython3",
      "version": "3.9.7"
    },
    "toc-autonumbering": true
  },
  "nbformat": 4,
  "nbformat_minor": 0
}